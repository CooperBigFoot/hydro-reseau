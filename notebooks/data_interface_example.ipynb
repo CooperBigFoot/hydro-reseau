{
 "cells": [
  {
   "cell_type": "code",
   "execution_count": 3,
   "id": "5a8ff842",
   "metadata": {},
   "outputs": [],
   "source": [
    "import polars as pl\n",
    "from pathlib import Path\n",
    "\n",
    "from hydro_reseau.data_utils.data_interface import CAMELSCHDataset"
   ]
  },
  {
   "cell_type": "code",
   "execution_count": 12,
   "id": "d4bc3fe1",
   "metadata": {},
   "outputs": [
    {
     "data": {
      "text/plain": [
       "331"
      ]
     },
     "execution_count": 12,
     "metadata": {},
     "output_type": "execute_result"
    }
   ],
   "source": [
    "dataset = CAMELSCHDataset(data_dir=\"/Users/cooper/Desktop/hydro-reseau/data/camels_ch\")\n",
    "\n",
    "# List all available catchments\n",
    "catchments = dataset.list_catchments()\n",
    "len(catchments)"
   ]
  },
  {
   "cell_type": "code",
   "execution_count": null,
   "id": "009330c7",
   "metadata": {},
   "outputs": [],
   "source": []
  },
  {
   "cell_type": "code",
   "execution_count": null,
   "id": "d59590bb",
   "metadata": {},
   "outputs": [],
   "source": []
  }
 ],
 "metadata": {
  "kernelspec": {
   "display_name": "hydro-reseau",
   "language": "python",
   "name": "python3"
  },
  "language_info": {
   "codemirror_mode": {
    "name": "ipython",
    "version": 3
   },
   "file_extension": ".py",
   "mimetype": "text/x-python",
   "name": "python",
   "nbconvert_exporter": "python",
   "pygments_lexer": "ipython3",
   "version": "3.12.8"
  }
 },
 "nbformat": 4,
 "nbformat_minor": 5
}
