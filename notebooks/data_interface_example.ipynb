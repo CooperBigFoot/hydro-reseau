{
 "cells": [
  {
   "cell_type": "code",
   "execution_count": 1,
   "id": "5a8ff842",
   "metadata": {},
   "outputs": [],
   "source": [
    "import polars as pl\n",
    "from pathlib import Path\n",
    "\n",
    "from hydro_reseau.data_utils.data_interface import CAMELSCHDataset"
   ]
  },
  {
   "cell_type": "code",
   "execution_count": 2,
   "id": "d4bc3fe1",
   "metadata": {},
   "outputs": [
    {
     "data": {
      "text/plain": [
       "331"
      ]
     },
     "execution_count": 2,
     "metadata": {},
     "output_type": "execute_result"
    }
   ],
   "source": [
    "dataset = CAMELSCHDataset(data_dir=\"/Users/cooper/Desktop/hydro-reseau/data/camels_ch\")\n",
    "\n",
    "# List all available catchments\n",
    "catchments = dataset.list_catchments()\n",
    "len(catchments)"
   ]
  },
  {
   "cell_type": "code",
   "execution_count": 3,
   "id": "009330c7",
   "metadata": {},
   "outputs": [
    {
     "name": "stdout",
     "output_type": "stream",
     "text": [
      "shape: (5, 11)\n",
      "┌────────────┬───────────┬───────────┬───────────┬───┬───────────┬───────────┬─────────┬───────────┐\n",
      "│ date       ┆ discharge ┆ discharge ┆ waterleve ┆ … ┆ temperatu ┆ rel_sun_d ┆ swe(mm) ┆ catchment │\n",
      "│ ---        ┆ _vol(m3/s ┆ _spec(mm/ ┆ l(m)      ┆   ┆ re_max(de ┆ ur(%)     ┆ ---     ┆ _id       │\n",
      "│ date       ┆ )         ┆ d)        ┆ ---       ┆   ┆ gC)       ┆ ---       ┆ f64     ┆ ---       │\n",
      "│            ┆ ---       ┆ ---       ┆ f64       ┆   ┆ ---       ┆ f64       ┆         ┆ i32       │\n",
      "│            ┆ f64       ┆ f64       ┆           ┆   ┆ f64       ┆           ┆         ┆           │\n",
      "╞════════════╪═══════════╪═══════════╪═══════════╪═══╪═══════════╪═══════════╪═════════╪═══════════╡\n",
      "│ 1981-01-01 ┆ NaN       ┆ NaN       ┆ 428.992   ┆ … ┆ 3.68      ┆ 0.84      ┆ NaN     ┆ 2004      │\n",
      "│ 1981-01-02 ┆ NaN       ┆ NaN       ┆ 428.981   ┆ … ┆ 2.76      ┆ 0.08      ┆ NaN     ┆ 2004      │\n",
      "│ 1981-01-03 ┆ NaN       ┆ NaN       ┆ 428.995   ┆ … ┆ 5.54      ┆ 0.34      ┆ NaN     ┆ 2004      │\n",
      "│ 1981-01-04 ┆ NaN       ┆ NaN       ┆ 429.085   ┆ … ┆ 5.73      ┆ 0.35      ┆ NaN     ┆ 2004      │\n",
      "│ 1981-01-05 ┆ NaN       ┆ NaN       ┆ 429.191   ┆ … ┆ 0.4       ┆ 8.84      ┆ NaN     ┆ 2004      │\n",
      "└────────────┴───────────┴───────────┴───────────┴───┴───────────┴───────────┴─────────┴───────────┘\n"
     ]
    }
   ],
   "source": [
    "ts_df = dataset.get_timeseries(\n",
    "    catchment_ids=catchments[:10],\n",
    "    start_date=\"1981-01-01\",\n",
    ")\n",
    "\n",
    "print(ts_df.head(5))"
   ]
  },
  {
   "cell_type": "code",
   "execution_count": null,
   "id": "d59590bb",
   "metadata": {},
   "outputs": [],
   "source": []
  }
 ],
 "metadata": {
  "kernelspec": {
   "display_name": "hydro-reseau",
   "language": "python",
   "name": "python3"
  },
  "language_info": {
   "codemirror_mode": {
    "name": "ipython",
    "version": 3
   },
   "file_extension": ".py",
   "mimetype": "text/x-python",
   "name": "python",
   "nbconvert_exporter": "python",
   "pygments_lexer": "ipython3",
   "version": "3.12.8"
  }
 },
 "nbformat": 4,
 "nbformat_minor": 5
}
